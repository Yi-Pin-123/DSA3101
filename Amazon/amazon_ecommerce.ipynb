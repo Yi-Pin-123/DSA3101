{
 "cells": [
  {
   "cell_type": "markdown",
   "metadata": {},
   "source": [
    "Dataset Documentation"
   ]
  },
  {
   "cell_type": "markdown",
   "metadata": {},
   "source": [
    "A. General Information:\n",
    "\n",
    "- Dataset Name:  We name this dataset as 'Amazon Sales'. It contains the data of over a thousand of Amazon's product's ratings and reviews, as listed on it's official website.\n",
    "- Source: The dataset is obtained from Kaggle, a subsidiary of Google containing published datasets. It is scraped through BeautifulSoup and Webdriver using Python, from the official website of Amazon. \n",
    "- Date of Collection: This dataset was collected in 2022. \n",
    "- Owner/Provider: The information was obtained from Amazon's official website, but collected by Karkavelraja J., a contributor on the Kaggle Platform. \n",
    "- License: This dataset is under the CC BY-NC-SA 4.0 license - the dataset is available for sharing and adaptation. However, appropriate credit must be given with a link provided to the link, and changes to the dataset must be indicated. The material may not be used for commercial purposes. "
   ]
  },
  {
   "cell_type": "code",
   "execution_count": 19,
   "metadata": {},
   "outputs": [],
   "source": [
    "# Load the required libraries\n",
    "import pandas as pd\n",
    "import numpy as np\n",
    "import matplotlib.pyplot as plt\n",
    "import seaborn as sns\n",
    "from sklearn.preprocessing import StandardScaler, OneHotEncoder\n",
    "from sklearn.impute import SimpleImputer\n",
    "\n",
    "# Download the Amazon Sales Data set from this site and save onto your device\n",
    "# https://www.kaggle.com/datasets/karkavelrajaj/amazon-sales-dataset/data\n",
    "\n",
    "# Change your working directory if to access the file in its location\n",
    "import os\n",
    "os.getcwd()\n",
    "# os.chdir(\"...\")"
   ]
  },
  {
   "cell_type": "code",
   "execution_count": null,
   "metadata": {},
   "outputs": [],
   "source": [
    "# 1. Data Inspection and removal of unnecessary columns\n",
    "amazon_sales = pd.read_csv(\"amazon.csv\")\n",
    "\n",
    "# View the first few rows of the data set\n",
    "amazon_sales.head()"
   ]
  },
  {
   "cell_type": "code",
   "execution_count": null,
   "metadata": {},
   "outputs": [],
   "source": [
    "# View the data type of each feature\n",
    "amazon_sales.dtypes"
   ]
  },
  {
   "cell_type": "markdown",
   "metadata": {},
   "source": [
    "B. Dataset Description\n",
    "\n",
    "As seen from above, the first few rows of the data set are illustrated. The data type for each feature is a pandas object. There are 1465 entries with 16 columns.\n",
    "\n",
    "The Amazon sales dataset is a table of information. Its features include:\n",
    "1. `product_id`: Product ID of the item purchased\n",
    "2. `product_name`: Name of the product\n",
    "3. `category`: Category the product belongs to\n",
    "4. `discounted_price`: The discounted price of the product\n",
    "5. `actual_price`: The actual price of the product\n",
    "6. `discount_percentage`: Percentage of the discount of its original price\n",
    "7. `rating`: Rating of the product on Amazon's website, a scale from 0 to 5\n",
    "8. `rating_count`: Number of people who voted for the Amazon rating for that product\n",
    "9. `about_product`: A description of the product\n",
    "10. `user_id`: User ID of the consumer that purchased the product\n",
    "11. `user_name`: The username of the consumer\n",
    "12. `review_id`: The ID of the review that consumer who purchased the product gave\n",
    "13. `review_title`: Title of the review given\n",
    "14. `review_content`: Content of the review given by the consumer\n",
    "15. `img_link`: A link containing an image of the product\n",
    "16. `product_link`: The link of the product on the Amazon website"
   ]
  },
  {
   "cell_type": "code",
   "execution_count": null,
   "metadata": {},
   "outputs": [],
   "source": [
    "amazon_sales.isnull().sum()"
   ]
  },
  {
   "cell_type": "markdown",
   "metadata": {},
   "source": [
    "The output shows that the `rating_count` feature has 2 missing entries, which is 0.0014% of all observations.\n",
    "There is also a missing entry for the `rating` feature, which is 0.00068% of all observations."
   ]
  },
  {
   "cell_type": "code",
   "execution_count": null,
   "metadata": {},
   "outputs": [],
   "source": [
    "amazon_sales.duplicated().value_counts()"
   ]
  },
  {
   "cell_type": "markdown",
   "metadata": {},
   "source": [
    "C. Data Quality:\n",
    "- There are missing values associated with two features in the data set.\n",
    "- There are no duplicates associated with the data,as seen above, thus we do not have to employ any methods to remove duplicates."
   ]
  },
  {
   "cell_type": "markdown",
   "metadata": {},
   "source": [
    "D. Data Structure\n",
    "- Schema Diagram (if applicable, include an entity-relationship diagram of how the data tables relate to each other)\n",
    "- Relationships: Describe any relationships between different tables using key pairing"
   ]
  },
  {
   "cell_type": "markdown",
   "metadata": {},
   "source": [
    "Preprocessing Documentation"
   ]
  },
  {
   "cell_type": "markdown",
   "metadata": {},
   "source": [
    "Feature Selection:\n",
    "\n",
    "Firstly, we shall remove several features, namely `about_product`, `user_id`, `user_name`,`rating_count`, `review_content`, `review_id`, `review_title`, `img_link`, `product_link`, with the sole reason being that they are not necessary in future data analysis that use relational databases including this dataset. (TO BE DETERMINED)"
   ]
  },
  {
   "cell_type": "code",
   "execution_count": 39,
   "metadata": {},
   "outputs": [],
   "source": [
    "# Remove unnecessary columns\n",
    "amazon_sales = amazon_sales.drop(columns = ['about_product', 'user_id', 'user_name','rating_count', 'review_content', 'review_title', 'img_link', 'product_link'])"
   ]
  },
  {
   "cell_type": "markdown",
   "metadata": {},
   "source": [
    "The code chunk below is to transform the features `actual_price`, `discounted_price`, `rating` and `discount_percentage` into numeric data types.\n",
    "Further rename the columns to make the column names look prettier.\n",
    "\n",
    "Comment: `actual_price` and `discounted_price`, which are in rupees, are converted to USD as the standardised currency across all relational databases is the USD."
   ]
  },
  {
   "cell_type": "code",
   "execution_count": null,
   "metadata": {},
   "outputs": [],
   "source": [
    "# 2. Data type Conversions (Transforming numeric columns to make them look nicer)\n",
    "\n",
    "# Here, we convert four columns into numerical data types\n",
    "amazon_sales['actual_price'] = amazon_sales['actual_price'].astype(str).str.replace('₹', '')\n",
    "amazon_sales['discounted_price'] = amazon_sales['discounted_price'].astype(str).str.replace('₹', '')\n",
    "amazon_sales['discount_percentage'] = amazon_sales['discount_percentage'].astype(str).str.replace('%', '')\n",
    "\n",
    "amazon_sales['actual_price'] = amazon_sales['actual_price'].str.replace(',', '')\n",
    "amazon_sales['discounted_price'] = amazon_sales['discounted_price'].str.replace(',', '')\n",
    "\n",
    "amazon_sales['actual_price'] = pd.to_numeric(amazon_sales['actual_price'])\n",
    "amazon_sales['discount_percentage'] = pd.to_numeric(amazon_sales['discount_percentage'])\n",
    "amazon_sales['discounted_price'] = pd.to_numeric(amazon_sales['discounted_price'])\n",
    "\n",
    "amazon_sales['rating'] = amazon_sales['rating'].str.replace('|', '')\n",
    "amazon_sales['rating'] = pd.to_numeric(amazon_sales['rating'])\n",
    "\n",
    "amazon_sales['actual_price'] = round(amazon_sales['actual_price']*0.012, 2)\n",
    "amazon_sales['discounted_price'] = round(amazon_sales['discounted_price']*0.012, 2)\n",
    "\n",
    "amazon_sales = amazon_sales.rename(columns = {'actual_price': 'actual_price (USD)', 'discounted_price': 'discounted_price (USD)', 'discount_percentage': 'discount (%)'})\n",
    "amazon_sales.head()"
   ]
  },
  {
   "cell_type": "markdown",
   "metadata": {},
   "source": [
    "Encoding the feature `category` as a categorical variable. This was after we trimmed the entries this feature has into a shorter and cleaner phrase for a categorical variable. This feature classifies the products based on their main category 'Electronics' or 'Computers & Accessories'. Since we have decided on 'Home appliances' as one of our main categories, we convert 'Computers & Accessories' to 'Home Appliances'.\n"
   ]
  },
  {
   "cell_type": "code",
   "execution_count": null,
   "metadata": {},
   "outputs": [],
   "source": [
    "amazon_sales['category'] = amazon_sales['category'].str.split('|').str[0]\n",
    "amazon_sales['category'].unique()"
   ]
  },
  {
   "cell_type": "markdown",
   "metadata": {},
   "source": [
    "There are 9 distinct categories of products in this dataset. We want to focus our project analysis on just three main categories: Electronics, Home appliances and Clothing.\n",
    "Therefore, we remove these categories from our dataset: \"MusicalInstruments\", \"OfficeProducts\", \"Toys&Games\", \"Car&Motorbike\", \"Health&PersonalCare\" (thereby removing all observations that fulfill this condition)"
   ]
  },
  {
   "cell_type": "code",
   "execution_count": null,
   "metadata": {},
   "outputs": [],
   "source": [
    "remove_set = {\"MusicalInstruments\", \"OfficeProducts\", \"Toys&Games\", \"Car&Motorbike\", \"Health&PersonalCare\"}\n",
    "amazon_sales = amazon_sales[~amazon_sales['category'].isin(remove_set)]\n",
    "amazon_sales['category'].unique()"
   ]
  },
  {
   "cell_type": "code",
   "execution_count": null,
   "metadata": {},
   "outputs": [],
   "source": [
    "amazon_sales['category'] = amazon_sales['category'].replace([\"Home&Kitchen\"], \"Home Appliances\")\n",
    "amazon_sales['category'] = amazon_sales['category'].replace([\"Computers&Accessories\"], \"Electronics\")\n",
    "amazon_sales['category'] = amazon_sales['category'].replace([\"HomeImprovement\"], \"Home Appliances\")\n",
    "\n",
    "amazon_sales['category'] = amazon_sales.category.astype('category')\n",
    "amazon_sales['category'].unique()"
   ]
  },
  {
   "cell_type": "markdown",
   "metadata": {},
   "source": [
    "We have decided on removal as the number of observations is very small (fewer than 5) in the original data set, and assumed that removal of these rows will not impact the data analysis significantly."
   ]
  },
  {
   "cell_type": "code",
   "execution_count": null,
   "metadata": {},
   "outputs": [],
   "source": [
    "amazon_sales.dropna(subset = ['rating'], inplace = True)\n",
    "amazon_sales.isnull().sum()"
   ]
  },
  {
   "cell_type": "markdown",
   "metadata": {},
   "source": [
    "There are no duplicate records found as per our inspection on the data set as conducted earlier on.\n",
    "\n",
    "As there are no date and time records, date and time handling for this data set is not required."
   ]
  },
  {
   "cell_type": "markdown",
   "metadata": {},
   "source": [
    "Below, we will handle outliers using Z-score normalization, removing observations that have z-scores above 3."
   ]
  },
  {
   "cell_type": "code",
   "execution_count": 32,
   "metadata": {},
   "outputs": [],
   "source": [
    "# 4. Handling outliers\n",
    "# Use visualization plots to identify potential outliers in numerical columns\n",
    "# sns.boxplot(x = amazon_sales[\"actual_price (rupees)\"])\n",
    "\n",
    "# Use Z-score normalization to identify and remove outliers\n",
    "from scipy import stats\n",
    "\n",
    "# Obtain a subset of numerical columns for the dataset, except for rating and discount\n",
    "# because the values are already within a small margin/within a range of values\n",
    "amazon_numeric = amazon_sales.iloc[:, 3:5]\n",
    "\n",
    "\n",
    "#  Calculate the z-scores for the subset of the dataset\n",
    "z_scores = stats.zscore(amazon_numeric)\n",
    "\n",
    "# Convert the z-scores to absolute values and filter out the outliers\n",
    "z_scores = np.abs(z_scores)\n",
    "filters = (z_scores < 3).all(axis=1)\n",
    "amazon_sales = amazon_sales[filters]"
   ]
  },
  {
   "cell_type": "code",
   "execution_count": null,
   "metadata": {},
   "outputs": [],
   "source": [
    "filters.value_counts()"
   ]
  },
  {
   "cell_type": "markdown",
   "metadata": {},
   "source": [
    "From Z-score normalization conducted above, using -3 and 3 as the threshold to remove observations with outliers in numerical columns, we have found possible outliers, many of them, in the `discounted_price (USD)` feature."
   ]
  },
  {
   "cell_type": "markdown",
   "metadata": {},
   "source": [
    "As for now, we will not add any new features to the data set"
   ]
  },
  {
   "cell_type": "markdown",
   "metadata": {},
   "source": [
    "Data storage\n",
    "\n",
    "- We will store the cleaned and preprocessed data in a database\n",
    "- The file format to store the cleaned data is CSV, which has always been the default format for the data. If there is a need to store the cleaned data in a SQL database, we can conform to that."
   ]
  }
 ],
 "metadata": {
  "kernelspec": {
   "display_name": "Python 3",
   "language": "python",
   "name": "python3"
  },
  "language_info": {
   "codemirror_mode": {
    "name": "ipython",
    "version": 3
   },
   "file_extension": ".py",
   "mimetype": "text/x-python",
   "name": "python",
   "nbconvert_exporter": "python",
   "pygments_lexer": "ipython3",
   "version": "3.10.6"
  }
 },
 "nbformat": 4,
 "nbformat_minor": 2
}
